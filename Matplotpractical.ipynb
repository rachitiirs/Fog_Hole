{
 "cells": [
  {
   "cell_type": "markdown",
   "id": "3affec1a",
   "metadata": {},
   "source": [
    "# **EXERCISE 1**"
   ]
  },
  {
   "cell_type": "code",
   "execution_count": 1,
   "id": "04abb04a",
   "metadata": {},
   "outputs": [],
   "source": [
    "import numpy as np \n",
    "import os"
   ]
  },
  {
   "cell_type": "code",
   "execution_count": 186,
   "id": "a5533888",
   "metadata": {},
   "outputs": [],
   "source": [
    "def read_one (path):\n",
    "    band = np.loadtxt(path, delimiter =\",\")[:,2] .reshape(350, 300) \n",
    "    return band"
   ]
  },
  {
   "cell_type": "code",
   "execution_count": 187,
   "id": "ef68d235",
   "metadata": {
    "scrolled": true
   },
   "outputs": [],
   "source": [
    "def read_many (path):\n",
    "    lband = []\n",
    "    for root , dirs , files in os.walk(path ):\n",
    "        for file in files:\n",
    "            tmp = path + \"\\\\\" + file \n",
    "            band = read_one (tmp) \n",
    "            lband.append (band)\n",
    "    stack = np.dstack(np.array(lband)) \n",
    "    return stack\n"
   ]
  },
  {
   "cell_type": "code",
   "execution_count": 188,
   "id": "0a0947ac",
   "metadata": {
    "scrolled": true
   },
   "outputs": [
    {
     "name": "stdout",
     "output_type": "stream",
     "text": [
      "(350, 300, 31)\n"
     ]
    }
   ],
   "source": [
    "path_in = r\"F:\\IIRS\\Course material\\Mod 4 - Scientific Geocomputing\\L13 Scientific Plotting\\Scientific Plotting\\data\\csv\" \n",
    "stack = read_many(path_in)  \n",
    "print(stack.shape)"
   ]
  },
  {
   "cell_type": "code",
   "execution_count": 189,
   "id": "4000b948",
   "metadata": {
    "scrolled": true
   },
   "outputs": [
    {
     "name": "stdout",
     "output_type": "stream",
     "text": [
      "(350, 300)\n",
      "2\n",
      "105000\n"
     ]
    }
   ],
   "source": [
    "path_in2 = r\"F:\\IIRS\\Course material\\Mod 4 - Scientific Geocomputing\\L13 Scientific Plotting\\Scientific Plotting\\data\\csv\\2014_18.csv\" \n",
    "one = read_one(path_in2)\n",
    "print(one.shape)\n",
    "print(one.ndim)\n",
    "print(one.size)"
   ]
  },
  {
   "cell_type": "code",
   "execution_count": 190,
   "id": "72c19ad8",
   "metadata": {},
   "outputs": [
    {
     "data": {
      "text/plain": [
       "numpy.ndarray"
      ]
     },
     "execution_count": 190,
     "metadata": {},
     "output_type": "execute_result"
    }
   ],
   "source": [
    "type(one)"
   ]
  },
  {
   "cell_type": "code",
   "execution_count": 191,
   "id": "40e7a329",
   "metadata": {},
   "outputs": [],
   "source": [
    "one[one==-9999.0] = np.nan"
   ]
  },
  {
   "cell_type": "code",
   "execution_count": 192,
   "id": "d618eb3d",
   "metadata": {
    "scrolled": true
   },
   "outputs": [
    {
     "data": {
      "text/plain": [
       "nan"
      ]
     },
     "execution_count": 192,
     "metadata": {},
     "output_type": "execute_result"
    }
   ],
   "source": [
    "one.min()"
   ]
  },
  {
   "cell_type": "code",
   "execution_count": 193,
   "id": "58593c2b",
   "metadata": {},
   "outputs": [
    {
     "data": {
      "text/plain": [
       "7.31549"
      ]
     },
     "execution_count": 193,
     "metadata": {},
     "output_type": "execute_result"
    }
   ],
   "source": [
    "np.nanmin(one)"
   ]
  },
  {
   "cell_type": "code",
   "execution_count": 194,
   "id": "181b56c0",
   "metadata": {},
   "outputs": [
    {
     "data": {
      "text/plain": [
       "11.3609"
      ]
     },
     "execution_count": 194,
     "metadata": {},
     "output_type": "execute_result"
    }
   ],
   "source": [
    "np.nanmax(one)"
   ]
  },
  {
   "cell_type": "code",
   "execution_count": 195,
   "id": "e6437d87",
   "metadata": {},
   "outputs": [
    {
     "data": {
      "text/plain": [
       "(array([53], dtype=int64), array([124], dtype=int64))"
      ]
     },
     "execution_count": 195,
     "metadata": {},
     "output_type": "execute_result"
    }
   ],
   "source": [
    "np.where(one==np.nanmin(one))"
   ]
  },
  {
   "cell_type": "code",
   "execution_count": 196,
   "id": "5474a469",
   "metadata": {
    "scrolled": true
   },
   "outputs": [
    {
     "data": {
      "text/plain": [
       "(array([321], dtype=int64), array([183], dtype=int64))"
      ]
     },
     "execution_count": 196,
     "metadata": {},
     "output_type": "execute_result"
    }
   ],
   "source": [
    "np.where(one==np.nanmax(one))"
   ]
  },
  {
   "cell_type": "markdown",
   "id": "15176816",
   "metadata": {},
   "source": [
    "# **EXERCISE 2**"
   ]
  },
  {
   "cell_type": "code",
   "execution_count": 9,
   "id": "573e3d97",
   "metadata": {},
   "outputs": [
    {
     "ename": "NameError",
     "evalue": "name 'one' is not defined",
     "output_type": "error",
     "traceback": [
      "\u001b[1;31m---------------------------------------------------------------------------\u001b[0m",
      "\u001b[1;31mNameError\u001b[0m                                 Traceback (most recent call last)",
      "Cell \u001b[1;32mIn[9], line 2\u001b[0m\n\u001b[0;32m      1\u001b[0m \u001b[38;5;28;01mimport\u001b[39;00m \u001b[38;5;21;01mmatplotlib\u001b[39;00m\u001b[38;5;21;01m.\u001b[39;00m\u001b[38;5;21;01mpyplot\u001b[39;00m \u001b[38;5;28;01mas\u001b[39;00m \u001b[38;5;21;01mplt\u001b[39;00m\n\u001b[1;32m----> 2\u001b[0m plt\u001b[38;5;241m.\u001b[39mimshow(\u001b[43mone\u001b[49m)\n\u001b[0;32m      3\u001b[0m plt\u001b[38;5;241m.\u001b[39mcolorbar(label\u001b[38;5;241m=\u001b[39m\u001b[38;5;124m'\u001b[39m\u001b[38;5;124mtemp\u001b[39m\u001b[38;5;124m'\u001b[39m, orientation\u001b[38;5;241m=\u001b[39m\u001b[38;5;124m'\u001b[39m\u001b[38;5;124mhorizontal\u001b[39m\u001b[38;5;124m'\u001b[39m)\n",
      "\u001b[1;31mNameError\u001b[0m: name 'one' is not defined"
     ]
    }
   ],
   "source": [
    "import matplotlib.pyplot as plt\n",
    "plt.imshow(one)\n",
    "plt.colorbar(label='temp', orientation='horizontal')"
   ]
  },
  {
   "cell_type": "code",
   "execution_count": 198,
   "id": "b2cc3613",
   "metadata": {
    "scrolled": true
   },
   "outputs": [
    {
     "data": {
      "text/plain": [
       "<matplotlib.image.AxesImage at 0x2401f5d5910>"
      ]
     },
     "execution_count": 198,
     "metadata": {},
     "output_type": "execute_result"
    },
    {
     "data": {
      "image/png": "[encoded data removed]",
      "text/plain": [
       "<Figure size 640x480 with 1 Axes>"
      ]
     },
     "metadata": {},
     "output_type": "display_data"
    }
   ],
   "source": [
    "plt.imshow(one,interpolation= 'nearest')"
   ]
  },
  {
   "cell_type": "code",
   "execution_count": 199,
   "id": "3627812f",
   "metadata": {
    "scrolled": true
   },
   "outputs": [
    {
     "data": {
      "text/plain": [
       "<matplotlib.image.AxesImage at 0x2401f613370>"
      ]
     },
     "execution_count": 199,
     "metadata": {},
     "output_type": "execute_result"
    },
    {
     "data": {
      "image/png": "[encoded data removed]",
      "text/plain": [
       "<Figure size 640x480 with 1 Axes>"
      ]
     },
     "metadata": {},
     "output_type": "display_data"
    }
   ],
   "source": [
    "plt.imshow(one,interpolation= 'spline16')"
   ]
  },
  {
   "cell_type": "code",
   "execution_count": 200,
   "id": "22e33c91",
   "metadata": {
    "scrolled": false
   },
   "outputs": [
    {
     "data": {
      "text/plain": [
       "<matplotlib.image.AxesImage at 0x2400a18f040>"
      ]
     },
     "execution_count": 200,
     "metadata": {},
     "output_type": "execute_result"
    },
    {
     "data": {
      "image/png": "[encoded data removed]",
      "text/plain": [
       "<Figure size 640x480 with 1 Axes>"
      ]
     },
     "metadata": {},
     "output_type": "display_data"
    }
   ],
   "source": [
    "plt.imshow(one,interpolation= 'bicubic')"
   ]
  },
  {
   "cell_type": "markdown",
   "id": "b742ee19",
   "metadata": {},
   "source": [
    "# **EXERCISE 3**"
   ]
  },
  {
   "cell_type": "code",
   "execution_count": 201,
   "id": "68a67bb7",
   "metadata": {},
   "outputs": [
    {
     "data": {
      "text/plain": [
       "105000"
      ]
     },
     "execution_count": 201,
     "metadata": {},
     "output_type": "execute_result"
    }
   ],
   "source": [
    "path_in3 = r\"F:\\IIRS\\Course material\\Mod 4 - Scientific Geocomputing\\L13 Scientific Plotting\\Scientific Plotting\\data\\csv\\2014_10.csv\" \n",
    "band10 = read_one(path_in3)\n",
    "path_in4 = r\"F:\\IIRS\\Course material\\Mod 4 - Scientific Geocomputing\\L13 Scientific Plotting\\Scientific Plotting\\data\\csv\\2014_20.csv\" \n",
    "band20 = read_one(path_in4)\n",
    "band10[band10==-9999]=np.nan\n",
    "band20[band20==-9999]=np.nan\n",
    "np.size(band1)\n"
   ]
  },
  {
   "cell_type": "code",
   "execution_count": 202,
   "id": "e9c74b26",
   "metadata": {
    "scrolled": true
   },
   "outputs": [
    {
     "data": {
      "text/plain": [
       "105000"
      ]
     },
     "execution_count": 202,
     "metadata": {},
     "output_type": "execute_result"
    }
   ],
   "source": [
    "np.size(band2)"
   ]
  },
  {
   "cell_type": "code",
   "execution_count": 203,
   "id": "b42d096f",
   "metadata": {},
   "outputs": [],
   "source": [
    "band3 = band20 - band10"
   ]
  },
  {
   "cell_type": "code",
   "execution_count": 204,
   "id": "cfe1231a",
   "metadata": {},
   "outputs": [
    {
     "data": {
      "text/plain": [
       "105000"
      ]
     },
     "execution_count": 204,
     "metadata": {},
     "output_type": "execute_result"
    }
   ],
   "source": [
    "np.size(band3)"
   ]
  },
  {
   "cell_type": "code",
   "execution_count": 205,
   "id": "d3014159",
   "metadata": {
    "scrolled": false
   },
   "outputs": [
    {
     "data": {
      "text/plain": [
       "<matplotlib.colorbar.Colorbar at 0x24009f5fd90>"
      ]
     },
     "execution_count": 205,
     "metadata": {},
     "output_type": "execute_result"
    },
    {
     "data": {
      "image/png": "[encoded data removed]",
      "text/plain": [
       "<Figure size 640x480 with 6 Axes>"
      ]
     },
     "metadata": {},
     "output_type": "display_data"
    }
   ],
   "source": [
    "plt.subplot(2,2,1,label='2014_10') #label not showing??\n",
    "plt.imshow(band10)\n",
    "plt.colorbar(label='temp')\n",
    "plt.subplot(2,2,2)\n",
    "plt.imshow(band20)\n",
    "plt.colorbar(label='temp')\n",
    "plt.subplot(2,2,3)\n",
    "plt.imshow(band3) \n",
    "plt.colorbar(label='temp')\n",
    "#how to print all colorbars in 1 line code?"
   ]
  },
  {
   "cell_type": "code",
   "execution_count": 269,
   "id": "c1c01084",
   "metadata": {},
   "outputs": [
    {
     "data": {
      "text/plain": [
       "<matplotlib.colorbar.Colorbar at 0x24015b3a250>"
      ]
     },
     "execution_count": 269,
     "metadata": {},
     "output_type": "execute_result"
    },
    {
     "data": {
      "image/png": "[encoded data removed]",
      "text/plain": [
       "<Figure size 640x480 with 2 Axes>"
      ]
     },
     "metadata": {},
     "output_type": "display_data"
    }
   ],
   "source": [
    "path_in5 = r\"F:\\IIRS\\Course material\\Mod 4 - Scientific Geocomputing\\L13 Scientific Plotting\\Scientific Plotting\\data\\csv\\2014_18.csv\" \n",
    "band18 = read_one(path_in5)\n",
    "band18[band18==-9999]=np.nan\n",
    "plt.subplot(2,2,1)\n",
    "plt.imshow(band18)\n",
    "plt.colorbar(label='temp')"
   ]
  },
  {
   "cell_type": "markdown",
   "id": "1e84825d",
   "metadata": {},
   "source": [
    "# **EXERCISE 4**"
   ]
  },
  {
   "cell_type": "code",
   "execution_count": 207,
   "id": "e01b798c",
   "metadata": {
    "scrolled": false
   },
   "outputs": [
    {
     "data": {
      "text/plain": [
       "array([[0., 0., 0., ..., 0., 0., 0.],\n",
       "       [0., 0., 0., ..., 0., 0., 0.],\n",
       "       [0., 0., 0., ..., 0., 0., 0.],\n",
       "       ...,\n",
       "       [0., 0., 0., ..., 0., 0., 0.],\n",
       "       [0., 0., 0., ..., 0., 0., 0.],\n",
       "       [0., 0., 0., ..., 0., 0., 0.]])"
      ]
     },
     "execution_count": 207,
     "metadata": {},
     "output_type": "execute_result"
    }
   ],
   "source": [
    "array = np.zeros((350,300))\n",
    "array"
   ]
  },
  {
   "cell_type": "code",
   "execution_count": 208,
   "id": "9cc84ccb",
   "metadata": {
    "scrolled": true
   },
   "outputs": [
    {
     "data": {
      "text/plain": [
       "array([[nan, nan, nan, ..., nan, nan, nan],\n",
       "       [nan, nan, nan, ..., nan, nan, nan],\n",
       "       [nan, nan, nan, ..., nan, nan, nan],\n",
       "       ...,\n",
       "       [nan, nan, nan, ..., nan, nan, nan],\n",
       "       [nan, nan, nan, ..., nan, nan, nan],\n",
       "       [nan, nan, nan, ..., nan, nan, nan]])"
      ]
     },
     "execution_count": 208,
     "metadata": {},
     "output_type": "execute_result"
    }
   ],
   "source": [
    "band18"
   ]
  },
  {
   "cell_type": "code",
   "execution_count": 209,
   "id": "0d9c621e",
   "metadata": {},
   "outputs": [
    {
     "data": {
      "text/plain": [
       "tuple"
      ]
     },
     "execution_count": 209,
     "metadata": {},
     "output_type": "execute_result"
    }
   ],
   "source": [
    "np.where(band18==np.nanmin(band18))\n",
    "# np.shape(band18)\n",
    "lowtmp = np.where(band18==np.nanmin(band18))\n",
    "type(lowtmp)"
   ]
  },
  {
   "cell_type": "code",
   "execution_count": 234,
   "id": "fafd798a",
   "metadata": {
    "scrolled": true
   },
   "outputs": [
    {
     "data": {
      "text/plain": [
       "1"
      ]
     },
     "execution_count": 234,
     "metadata": {},
     "output_type": "execute_result"
    }
   ],
   "source": [
    "rowpos = lowtmp[0]\n",
    "colpos = lowtmp[1]\n",
    "len(rowpos)"
   ]
  },
  {
   "cell_type": "code",
   "execution_count": 239,
   "id": "82187d75",
   "metadata": {
    "scrolled": true
   },
   "outputs": [
    {
     "ename": "TypeError",
     "evalue": "cannot unpack non-iterable int object",
     "output_type": "error",
     "traceback": [
      "\u001b[1;31m---------------------------------------------------------------------------\u001b[0m",
      "\u001b[1;31mTypeError\u001b[0m                                 Traceback (most recent call last)",
      "\u001b[1;32m~\\AppData\\Local\\Temp\\ipykernel_6496\\935862916.py\u001b[0m in \u001b[0;36m<module>\u001b[1;34m\u001b[0m\n\u001b[0;32m      2\u001b[0m     \u001b[0mrowidx\u001b[0m \u001b[1;33m=\u001b[0m \u001b[0mrowpos\u001b[0m\u001b[1;33m[\u001b[0m\u001b[0mi\u001b[0m\u001b[1;33m]\u001b[0m\u001b[1;33m\u001b[0m\u001b[1;33m\u001b[0m\u001b[0m\n\u001b[0;32m      3\u001b[0m     \u001b[0mcolidx\u001b[0m \u001b[1;33m=\u001b[0m \u001b[0mcolpos\u001b[0m\u001b[1;33m[\u001b[0m\u001b[0mi\u001b[0m\u001b[1;33m]\u001b[0m\u001b[1;33m\u001b[0m\u001b[1;33m\u001b[0m\u001b[0m\n\u001b[1;32m----> 4\u001b[1;33m \u001b[0mk\u001b[0m\u001b[1;33m=\u001b[0m\u001b[1;33m[\u001b[0m\u001b[0mrowidx\u001b[0m\u001b[1;33m,\u001b[0m\u001b[0mcolidx\u001b[0m\u001b[1;33m]\u001b[0m\u001b[1;33m=\u001b[0m\u001b[1;33m-\u001b[0m\u001b[1;36m1\u001b[0m\u001b[1;33m\u001b[0m\u001b[1;33m\u001b[0m\u001b[0m\n\u001b[0m",
      "\u001b[1;31mTypeError\u001b[0m: cannot unpack non-iterable int object"
     ]
    }
   ],
   "source": [
    "for i in range (len(rowpos)):\n",
    "    rowidx = rowpos[i]\n",
    "    colidx = colpos[i]\n",
    "    [rowidx,colidx]=-1"
   ]
  },
  {
   "cell_type": "code",
   "execution_count": null,
   "id": "ad5192b4",
   "metadata": {
    "scrolled": false
   },
   "outputs": [],
   "source": [
    "hightmp = np.where(band18==np.nanmax(band18))\n",
    "\n",
    "rowpos = hightmp[0]\n",
    "colpos = hightmp[1]"
   ]
  },
  {
   "cell_type": "code",
   "execution_count": null,
   "id": "4b189462",
   "metadata": {},
   "outputs": [],
   "source": [
    "hightmp"
   ]
  },
  {
   "cell_type": "code",
   "execution_count": null,
   "id": "53038347",
   "metadata": {
    "scrolled": true
   },
   "outputs": [],
   "source": [
    "array[53,124]=-1\n",
    "array[321,183]=1\n",
    "array[53,124]"
   ]
  },
  {
   "cell_type": "code",
   "execution_count": 267,
   "id": "2e31b690",
   "metadata": {},
   "outputs": [
    {
     "data": {
      "text/plain": [
       "<matplotlib.image.AxesImage at 0x24002a3ea30>"
      ]
     },
     "execution_count": 267,
     "metadata": {},
     "output_type": "execute_result"
    },
    {
     "data": {
      "image/png": "[encoded data removed]",
      "text/plain": [
       "<Figure size 640x480 with 2 Axes>"
      ]
     },
     "metadata": {},
     "output_type": "display_data"
    }
   ],
   "source": [
    "plt.subplot(1,2,1)\n",
    "plt.imshow(band18)\n",
    "plt.subplot(1,2,2)\n",
    "plt.imshow(array)"
   ]
  },
  {
   "cell_type": "code",
   "execution_count": 218,
   "id": "f80bb1b6",
   "metadata": {},
   "outputs": [
    {
     "data": {
      "text/plain": [
       "3255000"
      ]
     },
     "execution_count": 218,
     "metadata": {},
     "output_type": "execute_result"
    }
   ],
   "source": [
    "stack.size"
   ]
  },
  {
   "cell_type": "markdown",
   "id": "21eb76d7",
   "metadata": {},
   "source": [
    "# **EXERCISE 5**"
   ]
  },
  {
   "cell_type": "code",
   "execution_count": 270,
   "id": "1fe6df0d",
   "metadata": {
    "scrolled": true
   },
   "outputs": [
    {
     "name": "stdout",
     "output_type": "stream",
     "text": [
      "[ 8.66476    8.10367    6.7018     6.35529    8.8682     7.19761\n",
      "  5.4239     8.06858    8.55868    8.67697    6.11872   10.6685\n",
      "  2.66187    1.40277    2.03596    2.75796    0.675441   0.121035\n",
      "  0.605313   3.8337     5.7895    -0.026625  10.4575    -0.0218277\n",
      "  4.22088    8.2048     7.36443   12.6986    11.0204     9.6436\n",
      " 11.2197   ]\n"
     ]
    }
   ],
   "source": [
    "print(stack[50][250])\n",
    "amster = stack[50][250]\n",
    "amster[:7]\n",
    "np.mean(amster[:7]) # mean of first 7 days\n",
    "mean = np.mean(amster) # mean of whole month"
   ]
  },
  {
   "cell_type": "markdown",
   "id": "860ad765",
   "metadata": {},
   "source": [
    "# EXERCISE 6"
   ]
  },
  {
   "cell_type": "code",
   "execution_count": 288,
   "id": "bd39b73f",
   "metadata": {
    "scrolled": true
   },
   "outputs": [
    {
     "data": {
      "image/png": "[encoded data removed]",
      "text/plain": [
       "<Figure size 640x480 with 1 Axes>"
      ]
     },
     "metadata": {},
     "output_type": "display_data"
    }
   ],
   "source": [
    "plt.plot(stack[50,250],color='r')\n",
    "plt.xlabel('Days')\n",
    "plt.ylabel('Temp in degrees')\n",
    "plt.title('Temperature in Amsterdam, Jan 2014')\n",
    "plt.grid()\n"
   ]
  },
  {
   "cell_type": "code",
   "execution_count": 266,
   "id": "4ee3c9ae",
   "metadata": {},
   "outputs": [
    {
     "data": {
      "text/plain": [
       "numpy.float64"
      ]
     },
     "execution_count": 266,
     "metadata": {},
     "output_type": "execute_result"
    }
   ],
   "source": [
    "type(band_mean)"
   ]
  },
  {
   "cell_type": "markdown",
   "id": "326b631f",
   "metadata": {},
   "source": [
    "# EXERCISE 7"
   ]
  },
  {
   "cell_type": "code",
   "execution_count": 284,
   "id": "f2a2c462",
   "metadata": {
    "scrolled": true
   },
   "outputs": [
    {
     "data": {
      "text/plain": [
       "(350, 300)"
      ]
     },
     "execution_count": 284,
     "metadata": {},
     "output_type": "execute_result"
    }
   ],
   "source": [
    "type(amster)\n",
    "band_mean = np.mean(stack,axis=2)\n",
    "np.shape(band_mean)"
   ]
  },
  {
   "cell_type": "code",
   "execution_count": 285,
   "id": "b38ed86e",
   "metadata": {},
   "outputs": [],
   "source": [
    "np.zeros((350,300))\n",
    "ams = np.mean(band_mean)\n",
    "for i,j in band_mean:\n",
    "    "
   ]
  },
  {
   "cell_type": "markdown",
   "id": "6dd46357",
   "metadata": {},
   "source": [
    "# GRASS"
   ]
  },
  {
   "cell_type": "code",
   "execution_count": 6,
   "id": "0b8e5d76",
   "metadata": {},
   "outputs": [],
   "source": [
    "def read_one (path):\n",
    "    band = np.loadtxt(path, delimiter =\" \") \n",
    "    return band\n",
    "\n",
    "def read_many (path):\n",
    "    lband = []\n",
    "    for root , dirs , files in os.walk(path):\n",
    "        for file in files:\n",
    "            tmp = path + \"\\\\\" + file \n",
    "            band = read_one (tmp) \n",
    "            lband.append (band)\n",
    "    stack = np.dstack(np.array(lband)) \n",
    "    return stack\n"
   ]
  },
  {
   "cell_type": "code",
   "execution_count": 21,
   "id": "0277572d",
   "metadata": {
    "scrolled": true
   },
   "outputs": [
    {
     "data": {
      "text/plain": [
       "[<matplotlib.lines.Line2D at 0x23c5e8e0e80>]"
      ]
     },
     "execution_count": 21,
     "metadata": {},
     "output_type": "execute_result"
    },
    {
     "data": {
      "image/png": "[encoded data removed]",
      "text/plain": [
       "<Figure size 640x480 with 1 Axes>"
      ]
     },
     "metadata": {},
     "output_type": "display_data"
    }
   ],
   "source": [
    "grass1 = read_one(r'F:\\IIRS\\Course material\\Mod 4 - Scientific Geocomputing\\L13 Scientific Plotting\\Scientific Plotting\\challenge\\Grass_spectra\\grass1.txt')\n",
    "wav=[]\n",
    "ref=[]\n",
    "for i in range(grass1.shape[0]):\n",
    "    wav.append(grass1[i][0])\n",
    "    ref.append(grass1[i][1])\n",
    "    \n",
    "plt.plot(wav,ref)\n",
    "    "
   ]
  },
  {
   "cell_type": "code",
   "execution_count": 20,
   "id": "d2ca138e",
   "metadata": {},
   "outputs": [
    {
     "data": {
      "text/plain": [
       "[0.2636,\n",
       " 0.2686,\n",
       " 0.2731,\n",
       " 0.2771,\n",
       " 0.2811,\n",
       " 0.2851,\n",
       " 0.2891,\n",
       " 0.2931,\n",
       " 0.2971,\n",
       " 0.3011,\n",
       " 0.3051,\n",
       " 0.3091,\n",
       " 0.3131,\n",
       " 0.3171,\n",
       " 0.3211,\n",
       " 0.3251,\n",
       " 0.3291,\n",
       " 0.3331,\n",
       " 0.3371,\n",
       " 0.3411,\n",
       " 0.3451,\n",
       " 0.3491,\n",
       " 0.3531,\n",
       " 0.3571,\n",
       " 0.3606,\n",
       " 0.3636,\n",
       " 0.3666,\n",
       " 0.3696,\n",
       " 0.3726,\n",
       " 0.3756,\n",
       " 0.3786,\n",
       " 0.3811,\n",
       " 0.3831,\n",
       " 0.3851,\n",
       " 0.3871,\n",
       " 0.3891,\n",
       " 0.3911,\n",
       " 0.3931,\n",
       " 0.3951,\n",
       " 0.3971,\n",
       " 0.3991,\n",
       " 0.4011,\n",
       " 0.4031,\n",
       " 0.4051,\n",
       " 0.4128,\n",
       " 0.4158,\n",
       " 0.4188,\n",
       " 0.4218,\n",
       " 0.4248,\n",
       " 0.4278,\n",
       " 0.4308,\n",
       " 0.4338,\n",
       " 0.4368,\n",
       " 0.4398,\n",
       " 0.4428,\n",
       " 0.4458,\n",
       " 0.4488,\n",
       " 0.4513,\n",
       " 0.4533,\n",
       " 0.4553,\n",
       " 0.4573,\n",
       " 0.4593,\n",
       " 0.4613,\n",
       " 0.4633,\n",
       " 0.4653,\n",
       " 0.4673,\n",
       " 0.4693,\n",
       " 0.4713,\n",
       " 0.4733,\n",
       " 0.4753,\n",
       " 0.4773,\n",
       " 0.4793,\n",
       " 0.4813,\n",
       " 0.4833,\n",
       " 0.4853,\n",
       " 0.4873,\n",
       " 0.4893,\n",
       " 0.4913,\n",
       " 0.4933,\n",
       " 0.4953,\n",
       " 0.4973,\n",
       " 0.4993,\n",
       " 0.5013,\n",
       " 0.5033,\n",
       " 0.5053,\n",
       " 0.5073,\n",
       " 0.5093,\n",
       " 0.5113,\n",
       " 0.5133,\n",
       " 0.5153,\n",
       " 0.5173,\n",
       " 0.5193,\n",
       " 0.5213,\n",
       " 0.5233,\n",
       " 0.5253,\n",
       " 0.5273,\n",
       " 0.5293,\n",
       " 0.5313,\n",
       " 0.5333,\n",
       " 0.5353,\n",
       " 0.5373,\n",
       " 0.5393,\n",
       " 0.5413,\n",
       " 0.5433,\n",
       " 0.5453,\n",
       " 0.5473,\n",
       " 0.5493,\n",
       " 0.5513,\n",
       " 0.5533,\n",
       " 0.5553,\n",
       " 0.5573,\n",
       " 0.5593,\n",
       " 0.5613,\n",
       " 0.5633,\n",
       " 0.5653,\n",
       " 0.5673,\n",
       " 0.5693,\n",
       " 0.5713,\n",
       " 0.5733,\n",
       " 0.5753,\n",
       " 0.5773,\n",
       " 0.5793,\n",
       " 0.5813,\n",
       " 0.5833,\n",
       " 0.5853,\n",
       " 0.5873,\n",
       " 0.5893,\n",
       " 0.5913,\n",
       " 0.5933,\n",
       " 0.5953,\n",
       " 0.5973,\n",
       " 0.5993,\n",
       " 0.6011,\n",
       " 0.6027,\n",
       " 0.6043,\n",
       " 0.6059,\n",
       " 0.6075,\n",
       " 0.6091,\n",
       " 0.6107,\n",
       " 0.6123,\n",
       " 0.6139,\n",
       " 0.6155,\n",
       " 0.6171,\n",
       " 0.6187,\n",
       " 0.6203,\n",
       " 0.6219,\n",
       " 0.6235,\n",
       " 0.6251,\n",
       " 0.6267,\n",
       " 0.6283,\n",
       " 0.6299,\n",
       " 0.6317,\n",
       " 0.6337,\n",
       " 0.6357,\n",
       " 0.6377,\n",
       " 0.6397,\n",
       " 0.6417,\n",
       " 0.6437,\n",
       " 0.6457,\n",
       " 0.6477,\n",
       " 0.6497,\n",
       " 0.6517,\n",
       " 0.6537,\n",
       " 0.6557,\n",
       " 0.6577,\n",
       " 0.6597,\n",
       " 0.6617,\n",
       " 0.6637,\n",
       " 0.6657,\n",
       " 0.6677,\n",
       " 0.6702,\n",
       " 0.6732,\n",
       " 0.6762,\n",
       " 0.6792,\n",
       " 0.6822,\n",
       " 0.6852,\n",
       " 0.6882,\n",
       " 0.6912,\n",
       " 0.6942,\n",
       " 0.6972,\n",
       " 0.7002,\n",
       " 0.702,\n",
       " 0.704,\n",
       " 0.706,\n",
       " 0.708,\n",
       " 0.71,\n",
       " 0.712,\n",
       " 0.714,\n",
       " 0.716,\n",
       " 0.718,\n",
       " 0.72,\n",
       " 0.722,\n",
       " 0.724,\n",
       " 0.726,\n",
       " 0.728,\n",
       " 0.73,\n",
       " 0.732,\n",
       " 0.734,\n",
       " 0.736,\n",
       " 0.738,\n",
       " 0.74,\n",
       " 0.742,\n",
       " 0.744,\n",
       " 0.746,\n",
       " 0.748,\n",
       " 0.7505,\n",
       " 0.7535,\n",
       " 0.7565,\n",
       " 0.7595,\n",
       " 0.7625,\n",
       " 0.7655,\n",
       " 0.7685,\n",
       " 0.7715,\n",
       " 0.7745,\n",
       " 0.7775,\n",
       " 0.781,\n",
       " 0.785,\n",
       " 0.789,\n",
       " 0.793,\n",
       " 0.797,\n",
       " 0.8015,\n",
       " 0.8065,\n",
       " 0.8115,\n",
       " 0.8165,\n",
       " 0.822,\n",
       " 0.828,\n",
       " 0.851,\n",
       " 0.859,\n",
       " 0.871,\n",
       " 0.883,\n",
       " 0.894,\n",
       " 0.904,\n",
       " 0.914,\n",
       " 0.924,\n",
       " 0.933,\n",
       " 0.941,\n",
       " 0.949,\n",
       " 0.957,\n",
       " 0.964,\n",
       " 0.97,\n",
       " 0.976,\n",
       " 0.982,\n",
       " 0.988,\n",
       " 0.994,\n",
       " 1.0,\n",
       " 1.006,\n",
       " 1.012,\n",
       " 1.018,\n",
       " 1.0235,\n",
       " 1.0285,\n",
       " 1.0335,\n",
       " 1.0385,\n",
       " 1.0435,\n",
       " 1.0485,\n",
       " 1.0535,\n",
       " 1.0585,\n",
       " 1.0635,\n",
       " 1.0685,\n",
       " 1.0735,\n",
       " 1.0785,\n",
       " 1.0835,\n",
       " 1.0885,\n",
       " 1.0935,\n",
       " 1.0985,\n",
       " 1.1035,\n",
       " 1.1085,\n",
       " 1.1135,\n",
       " 1.1185,\n",
       " 1.1235,\n",
       " 1.1285,\n",
       " 1.1335,\n",
       " 1.1385,\n",
       " 1.1435,\n",
       " 1.1485,\n",
       " 1.1535,\n",
       " 1.1585,\n",
       " 1.1635,\n",
       " 1.1685,\n",
       " 1.1735,\n",
       " 1.1785,\n",
       " 1.1835,\n",
       " 1.1885,\n",
       " 1.1935,\n",
       " 1.1985,\n",
       " 1.2035,\n",
       " 1.2085,\n",
       " 1.2135,\n",
       " 1.2185,\n",
       " 1.2235,\n",
       " 1.2285,\n",
       " 1.2335,\n",
       " 1.2385,\n",
       " 1.2435,\n",
       " 1.2485,\n",
       " 1.2535,\n",
       " 1.2585,\n",
       " 1.2635,\n",
       " 1.2685,\n",
       " 1.2735,\n",
       " 1.2785,\n",
       " 1.2835,\n",
       " 1.2885,\n",
       " 1.2935,\n",
       " 1.2985,\n",
       " 1.3035,\n",
       " 1.3085,\n",
       " 1.3135,\n",
       " 1.3185,\n",
       " 1.3235,\n",
       " 1.3285,\n",
       " 1.3335,\n",
       " 1.3385,\n",
       " 1.3435,\n",
       " 1.3485,\n",
       " 1.3535,\n",
       " 1.3585,\n",
       " 1.3635,\n",
       " 1.3685,\n",
       " 1.3735,\n",
       " 1.3785,\n",
       " 1.3835,\n",
       " 1.3885,\n",
       " 1.3935,\n",
       " 1.3985,\n",
       " 1.4035,\n",
       " 1.4085,\n",
       " 1.4135,\n",
       " 1.4185,\n",
       " 1.4235,\n",
       " 1.4285,\n",
       " 1.4335,\n",
       " 1.4385,\n",
       " 1.4435,\n",
       " 1.4485,\n",
       " 1.4535,\n",
       " 1.4585,\n",
       " 1.4635,\n",
       " 1.4685,\n",
       " 1.4735,\n",
       " 1.4785,\n",
       " 1.4835,\n",
       " 1.4885,\n",
       " 1.4935,\n",
       " 1.4985,\n",
       " 1.5035,\n",
       " 1.5085,\n",
       " 1.5135,\n",
       " 1.5185,\n",
       " 1.5235,\n",
       " 1.5285,\n",
       " 1.534,\n",
       " 1.54,\n",
       " 1.546,\n",
       " 1.552,\n",
       " 1.558,\n",
       " 1.564,\n",
       " 1.5705,\n",
       " 1.5775,\n",
       " 1.5845,\n",
       " 1.5915,\n",
       " 1.5985,\n",
       " 1.6055,\n",
       " 1.6125,\n",
       " 1.6195,\n",
       " 1.6265,\n",
       " 1.6335,\n",
       " 1.6405,\n",
       " 1.6475,\n",
       " 1.6545,\n",
       " 1.6615,\n",
       " 1.6685,\n",
       " 1.676,\n",
       " 1.684,\n",
       " 1.692,\n",
       " 1.7,\n",
       " 1.708,\n",
       " 1.716,\n",
       " 1.724,\n",
       " 1.732,\n",
       " 1.74,\n",
       " 1.748,\n",
       " 1.756,\n",
       " 1.764,\n",
       " 1.772,\n",
       " 1.78,\n",
       " 1.788,\n",
       " 1.796,\n",
       " 1.805,\n",
       " 1.815,\n",
       " 1.825,\n",
       " 1.835,\n",
       " 1.845,\n",
       " 1.855,\n",
       " 1.865,\n",
       " 1.875,\n",
       " 1.885,\n",
       " 1.895,\n",
       " 1.905,\n",
       " 1.915,\n",
       " 1.925,\n",
       " 1.935,\n",
       " 1.945,\n",
       " 1.955,\n",
       " 1.965,\n",
       " 1.975,\n",
       " 1.985,\n",
       " 1.995,\n",
       " 2.005,\n",
       " 2.015,\n",
       " 2.025,\n",
       " 2.035,\n",
       " 2.045,\n",
       " 2.055,\n",
       " 2.065,\n",
       " 2.075,\n",
       " 2.085,\n",
       " 2.095,\n",
       " 2.105,\n",
       " 2.115,\n",
       " 2.125,\n",
       " 2.135,\n",
       " 2.145,\n",
       " 2.155,\n",
       " 2.165,\n",
       " 2.175,\n",
       " 2.185,\n",
       " 2.195,\n",
       " 2.205,\n",
       " 2.215,\n",
       " 2.225,\n",
       " 2.235,\n",
       " 2.245,\n",
       " 2.255,\n",
       " 2.265,\n",
       " 2.275,\n",
       " 2.285,\n",
       " 2.295,\n",
       " 2.305,\n",
       " 2.315,\n",
       " 2.325,\n",
       " 2.335,\n",
       " 2.345,\n",
       " 2.355,\n",
       " 2.365,\n",
       " 2.375,\n",
       " 2.386,\n",
       " 2.4,\n",
       " 2.418,\n",
       " 2.44,\n",
       " 2.466,\n",
       " 2.496,\n",
       " 2.528,\n",
       " 2.56,\n",
       " 2.592,\n",
       " 2.624,\n",
       " 2.656,\n",
       " 2.688,\n",
       " 2.72,\n",
       " 2.752,\n",
       " 2.784,\n",
       " 2.816,\n",
       " 2.848,\n",
       " 2.88,\n",
       " 2.912,\n",
       " 2.944,\n",
       " 2.976]"
      ]
     },
     "execution_count": 20,
     "metadata": {},
     "output_type": "execute_result"
    }
   ],
   "source": [
    "wav"
   ]
  },
  {
   "cell_type": "code",
   "execution_count": 12,
   "id": "5b30473b",
   "metadata": {},
   "outputs": [
    {
     "data": {
      "text/plain": [
       "array([[2.63600e-01, 6.38400e-03],\n",
       "       [2.68600e-01, 7.29900e-03],\n",
       "       [2.73100e-01, 3.80100e-03],\n",
       "       [2.77100e-01, 8.42200e-03],\n",
       "       [2.81100e-01, 5.71000e-03],\n",
       "       [2.85100e-01, 6.93600e-03],\n",
       "       [2.89100e-01, 1.06950e-02],\n",
       "       [2.93100e-01, 9.18700e-03],\n",
       "       [2.97100e-01, 8.58200e-03],\n",
       "       [3.01100e-01, 7.17400e-03],\n",
       "       [3.05100e-01, 1.54410e-02],\n",
       "       [3.09100e-01, 1.69000e-02],\n",
       "       [3.13100e-01, 1.74100e-02],\n",
       "       [3.17100e-01, 1.65120e-02],\n",
       "       [3.21100e-01, 1.75030e-02],\n",
       "       [3.25100e-01, 1.67820e-02],\n",
       "       [3.29100e-01, 1.71390e-02],\n",
       "       [3.33100e-01, 1.70740e-02],\n",
       "       [3.37100e-01, 2.15860e-02],\n",
       "       [3.41100e-01, 2.03010e-02],\n",
       "       [3.45100e-01, 1.84660e-02],\n",
       "       [3.49100e-01, 1.82400e-02],\n",
       "       [3.53100e-01, 2.22200e-02],\n",
       "       [3.57100e-01, 2.28460e-02],\n",
       "       [3.60600e-01, 2.23430e-02],\n",
       "       [3.63600e-01, 2.31650e-02],\n",
       "       [3.66600e-01, 2.35520e-02],\n",
       "       [3.69600e-01, 2.31390e-02],\n",
       "       [3.72600e-01, 2.26220e-02],\n",
       "       [3.75600e-01, 2.13220e-02],\n",
       "       [3.78600e-01, 2.41620e-02],\n",
       "       [3.81100e-01, 2.25580e-02],\n",
       "       [3.83100e-01, 2.29960e-02],\n",
       "       [3.85100e-01, 2.39760e-02],\n",
       "       [3.87100e-01, 2.45360e-02],\n",
       "       [3.89100e-01, 2.55450e-02],\n",
       "       [3.91100e-01, 2.67310e-02],\n",
       "       [3.93100e-01, 2.79330e-02],\n",
       "       [3.95100e-01, 2.82950e-02],\n",
       "       [3.97100e-01, 3.01780e-02],\n",
       "       [3.99100e-01, 3.10380e-02],\n",
       "       [4.01100e-01, 3.24100e-02],\n",
       "       [4.03100e-01, 3.40150e-02],\n",
       "       [4.05100e-01, 3.58090e-02],\n",
       "       [4.12800e-01, 4.23790e-02],\n",
       "       [4.15800e-01, 4.52120e-02],\n",
       "       [4.18800e-01, 4.80810e-02],\n",
       "       [4.21800e-01, 5.06980e-02],\n",
       "       [4.24800e-01, 5.37210e-02],\n",
       "       [4.27800e-01, 5.64430e-02],\n",
       "       [4.30800e-01, 5.86290e-02],\n",
       "       [4.33800e-01, 6.16270e-02],\n",
       "       [4.36800e-01, 6.39190e-02],\n",
       "       [4.39800e-01, 6.57230e-02],\n",
       "       [4.42800e-01, 6.80060e-02],\n",
       "       [4.45800e-01, 6.98760e-02],\n",
       "       [4.48800e-01, 7.38240e-02],\n",
       "       [4.51300e-01, 7.60620e-02],\n",
       "       [4.53300e-01, 7.72110e-02],\n",
       "       [4.55300e-01, 7.85220e-02],\n",
       "       [4.57300e-01, 7.88610e-02],\n",
       "       [4.59300e-01, 7.99770e-02],\n",
       "       [4.61300e-01, 8.12310e-02],\n",
       "       [4.63300e-01, 8.29430e-02],\n",
       "       [4.65300e-01, 8.34840e-02],\n",
       "       [4.67300e-01, 8.50290e-02],\n",
       "       [4.69300e-01, 8.56190e-02],\n",
       "       [4.71300e-01, 8.66520e-02],\n",
       "       [4.73300e-01, 8.76100e-02],\n",
       "       [4.75300e-01, 8.91480e-02],\n",
       "       [4.77300e-01, 8.96110e-02],\n",
       "       [4.79300e-01, 9.07130e-02],\n",
       "       [4.81300e-01, 9.12150e-02],\n",
       "       [4.83300e-01, 9.21680e-02],\n",
       "       [4.85300e-01, 9.33390e-02],\n",
       "       [4.87300e-01, 9.43940e-02],\n",
       "       [4.89300e-01, 9.46040e-02],\n",
       "       [4.91300e-01, 9.59200e-02],\n",
       "       [4.93300e-01, 9.65450e-02],\n",
       "       [4.95300e-01, 9.83690e-02],\n",
       "       [4.97300e-01, 9.91260e-02],\n",
       "       [4.99300e-01, 1.00570e-01],\n",
       "       [5.01300e-01, 1.01556e-01],\n",
       "       [5.03300e-01, 1.02910e-01],\n",
       "       [5.05300e-01, 1.04589e-01],\n",
       "       [5.07300e-01, 1.06440e-01],\n",
       "       [5.09300e-01, 1.07615e-01],\n",
       "       [5.11300e-01, 1.10424e-01],\n",
       "       [5.13300e-01, 1.12827e-01],\n",
       "       [5.15300e-01, 1.15389e-01],\n",
       "       [5.17300e-01, 1.18156e-01],\n",
       "       [5.19300e-01, 1.21332e-01],\n",
       "       [5.21300e-01, 1.24856e-01],\n",
       "       [5.23300e-01, 1.27980e-01],\n",
       "       [5.25300e-01, 1.31618e-01],\n",
       "       [5.27300e-01, 1.34279e-01],\n",
       "       [5.29300e-01, 1.36907e-01],\n",
       "       [5.31300e-01, 1.39777e-01],\n",
       "       [5.33300e-01, 1.42046e-01],\n",
       "       [5.35300e-01, 1.44067e-01],\n",
       "       [5.37300e-01, 1.45786e-01],\n",
       "       [5.39300e-01, 1.47701e-01],\n",
       "       [5.41300e-01, 1.48025e-01],\n",
       "       [5.43300e-01, 1.49448e-01],\n",
       "       [5.45300e-01, 1.49692e-01],\n",
       "       [5.47300e-01, 1.51600e-01],\n",
       "       [5.49300e-01, 1.51632e-01],\n",
       "       [5.51300e-01, 1.53264e-01],\n",
       "       [5.53300e-01, 1.53007e-01],\n",
       "       [5.55300e-01, 1.54218e-01],\n",
       "       [5.57300e-01, 1.53720e-01],\n",
       "       [5.59300e-01, 1.53792e-01],\n",
       "       [5.61300e-01, 1.54514e-01],\n",
       "       [5.63300e-01, 1.53884e-01],\n",
       "       [5.65300e-01, 1.53855e-01],\n",
       "       [5.67300e-01, 1.52094e-01],\n",
       "       [5.69300e-01, 1.51731e-01],\n",
       "       [5.71300e-01, 1.49929e-01],\n",
       "       [5.73300e-01, 1.48814e-01],\n",
       "       [5.75300e-01, 1.48231e-01],\n",
       "       [5.77300e-01, 1.46928e-01],\n",
       "       [5.79300e-01, 1.48035e-01],\n",
       "       [5.81300e-01, 1.46563e-01],\n",
       "       [5.83300e-01, 1.46134e-01],\n",
       "       [5.85300e-01, 1.45577e-01],\n",
       "       [5.87300e-01, 1.46737e-01],\n",
       "       [5.89300e-01, 1.46678e-01],\n",
       "       [5.91300e-01, 1.46133e-01],\n",
       "       [5.93300e-01, 1.46160e-01],\n",
       "       [5.95300e-01, 1.45949e-01],\n",
       "       [5.97300e-01, 1.45761e-01],\n",
       "       [5.99300e-01, 1.46572e-01],\n",
       "       [6.01100e-01, 1.46839e-01],\n",
       "       [6.02700e-01, 1.46745e-01],\n",
       "       [6.04300e-01, 1.47725e-01],\n",
       "       [6.05900e-01, 1.46952e-01],\n",
       "       [6.07500e-01, 1.47311e-01],\n",
       "       [6.09100e-01, 1.47193e-01],\n",
       "       [6.10700e-01, 1.46470e-01],\n",
       "       [6.12300e-01, 1.46841e-01],\n",
       "       [6.13900e-01, 1.47197e-01],\n",
       "       [6.15500e-01, 1.46989e-01],\n",
       "       [6.17100e-01, 1.46123e-01],\n",
       "       [6.18700e-01, 1.46766e-01],\n",
       "       [6.20300e-01, 1.47533e-01],\n",
       "       [6.21900e-01, 1.46502e-01],\n",
       "       [6.23500e-01, 1.46792e-01],\n",
       "       [6.25100e-01, 1.47687e-01],\n",
       "       [6.26700e-01, 1.47486e-01],\n",
       "       [6.28300e-01, 1.48546e-01],\n",
       "       [6.29900e-01, 1.48027e-01],\n",
       "       [6.31700e-01, 1.48667e-01],\n",
       "       [6.33700e-01, 1.49048e-01],\n",
       "       [6.35700e-01, 1.48880e-01],\n",
       "       [6.37700e-01, 1.49179e-01],\n",
       "       [6.39700e-01, 1.48509e-01],\n",
       "       [6.41700e-01, 1.48969e-01],\n",
       "       [6.43700e-01, 1.48400e-01],\n",
       "       [6.45700e-01, 1.48879e-01],\n",
       "       [6.47700e-01, 1.47870e-01],\n",
       "       [6.49700e-01, 1.48400e-01],\n",
       "       [6.51700e-01, 1.47430e-01],\n",
       "       [6.53700e-01, 1.48118e-01],\n",
       "       [6.55700e-01, 1.48528e-01],\n",
       "       [6.57700e-01, 1.48596e-01],\n",
       "       [6.59700e-01, 1.48794e-01],\n",
       "       [6.61700e-01, 1.48209e-01],\n",
       "       [6.63700e-01, 1.48203e-01],\n",
       "       [6.65700e-01, 1.48791e-01],\n",
       "       [6.67700e-01, 1.47913e-01],\n",
       "       [6.70200e-01, 1.48182e-01],\n",
       "       [6.73200e-01, 1.47895e-01],\n",
       "       [6.76200e-01, 1.48937e-01],\n",
       "       [6.79200e-01, 1.49160e-01],\n",
       "       [6.82200e-01, 1.50341e-01],\n",
       "       [6.85200e-01, 1.52004e-01],\n",
       "       [6.88200e-01, 1.53390e-01],\n",
       "       [6.91200e-01, 1.58405e-01],\n",
       "       [6.94200e-01, 1.64555e-01],\n",
       "       [6.97200e-01, 1.73064e-01],\n",
       "       [7.00200e-01, 1.84865e-01],\n",
       "       [7.02000e-01, 1.92903e-01],\n",
       "       [7.04000e-01, 2.01431e-01],\n",
       "       [7.06000e-01, 2.11422e-01],\n",
       "       [7.08000e-01, 2.18996e-01],\n",
       "       [7.10000e-01, 2.29571e-01],\n",
       "       [7.12000e-01, 2.39086e-01],\n",
       "       [7.14000e-01, 2.50555e-01],\n",
       "       [7.16000e-01, 2.60592e-01],\n",
       "       [7.18000e-01, 2.73145e-01],\n",
       "       [7.20000e-01, 2.85161e-01],\n",
       "       [7.22000e-01, 2.98770e-01],\n",
       "       [7.24000e-01, 3.12177e-01],\n",
       "       [7.26000e-01, 3.26708e-01],\n",
       "       [7.28000e-01, 3.41459e-01],\n",
       "       [7.30000e-01, 3.57392e-01],\n",
       "       [7.32000e-01, 3.72825e-01],\n",
       "       [7.34000e-01, 3.88235e-01],\n",
       "       [7.36000e-01, 4.03766e-01],\n",
       "       [7.38000e-01, 4.19403e-01],\n",
       "       [7.40000e-01, 4.32886e-01],\n",
       "       [7.42000e-01, 4.47271e-01],\n",
       "       [7.44000e-01, 4.61120e-01],\n",
       "       [7.46000e-01, 4.73142e-01],\n",
       "       [7.48000e-01, 4.83425e-01],\n",
       "       [7.50500e-01, 4.96260e-01],\n",
       "       [7.53500e-01, 5.08310e-01],\n",
       "       [7.56500e-01, 5.18485e-01],\n",
       "       [7.59500e-01, 5.27102e-01],\n",
       "       [7.62500e-01, 5.33424e-01],\n",
       "       [7.65500e-01, 5.37614e-01],\n",
       "       [7.68500e-01, 5.42040e-01],\n",
       "       [7.71500e-01, 5.44852e-01],\n",
       "       [7.74500e-01, 5.48388e-01],\n",
       "       [7.77500e-01, 5.50238e-01],\n",
       "       [7.81000e-01, 5.51195e-01],\n",
       "       [7.85000e-01, 5.52671e-01],\n",
       "       [7.89000e-01, 5.54434e-01],\n",
       "       [7.93000e-01, 5.56295e-01],\n",
       "       [7.97000e-01, 5.57563e-01],\n",
       "       [8.01500e-01, 5.58120e-01],\n",
       "       [8.06500e-01, 5.60120e-01],\n",
       "       [8.11500e-01, 5.60691e-01],\n",
       "       [8.16500e-01, 5.62172e-01],\n",
       "       [8.22000e-01, 5.63521e-01],\n",
       "       [8.28000e-01, 5.63246e-01],\n",
       "       [8.51000e-01, 5.67722e-01],\n",
       "       [8.59000e-01, 5.65489e-01],\n",
       "       [8.71000e-01, 5.65083e-01],\n",
       "       [8.83000e-01, 5.64981e-01],\n",
       "       [8.94000e-01, 5.67698e-01],\n",
       "       [9.04000e-01, 5.66509e-01],\n",
       "       [9.14000e-01, 5.65662e-01],\n",
       "       [9.24000e-01, 5.64980e-01],\n",
       "       [9.33000e-01, 5.63598e-01],\n",
       "       [9.41000e-01, 5.59355e-01],\n",
       "       [9.49000e-01, 5.52985e-01],\n",
       "       [9.57000e-01, 5.44792e-01],\n",
       "       [9.64000e-01, 5.40962e-01],\n",
       "       [9.70000e-01, 5.40299e-01],\n",
       "       [9.76000e-01, 5.39747e-01],\n",
       "       [9.82000e-01, 5.40922e-01],\n",
       "       [9.88000e-01, 5.40341e-01],\n",
       "       [9.94000e-01, 5.42257e-01],\n",
       "       [1.00000e+00, 5.45163e-01],\n",
       "       [1.00600e+00, 5.46404e-01],\n",
       "       [1.01200e+00, 5.47662e-01],\n",
       "       [1.01800e+00, 5.52273e-01],\n",
       "       [1.02350e+00, 5.53776e-01],\n",
       "       [1.02850e+00, 5.56272e-01],\n",
       "       [1.03350e+00, 5.58428e-01],\n",
       "       [1.03850e+00, 5.60876e-01],\n",
       "       [1.04350e+00, 5.62222e-01],\n",
       "       [1.04850e+00, 5.63349e-01],\n",
       "       [1.05350e+00, 5.63783e-01],\n",
       "       [1.05850e+00, 5.65168e-01],\n",
       "       [1.06350e+00, 5.65536e-01],\n",
       "       [1.06850e+00, 5.66080e-01],\n",
       "       [1.07350e+00, 5.64950e-01],\n",
       "       [1.07850e+00, 5.66292e-01],\n",
       "       [1.08350e+00, 5.67074e-01],\n",
       "       [1.08850e+00, 5.65649e-01],\n",
       "       [1.09350e+00, 5.65441e-01],\n",
       "       [1.09850e+00, 5.65541e-01],\n",
       "       [1.10350e+00, 5.62196e-01],\n",
       "       [1.10850e+00, 5.63616e-01],\n",
       "       [1.11350e+00, 5.61207e-01],\n",
       "       [1.11850e+00, 5.60318e-01],\n",
       "       [1.12350e+00, 5.57721e-01],\n",
       "       [1.12850e+00, 5.53737e-01],\n",
       "       [1.13350e+00, 5.46190e-01],\n",
       "       [1.13850e+00, 5.35705e-01],\n",
       "       [1.14350e+00, 5.23199e-01],\n",
       "       [1.14850e+00, 5.12944e-01],\n",
       "       [1.15350e+00, 5.04814e-01],\n",
       "       [1.15850e+00, 4.98698e-01],\n",
       "       [1.16350e+00, 4.94609e-01],\n",
       "       [1.16850e+00, 4.92610e-01],\n",
       "       [1.17350e+00, 4.89702e-01],\n",
       "       [1.17850e+00, 4.87943e-01],\n",
       "       [1.18350e+00, 4.86771e-01],\n",
       "       [1.18850e+00, 4.86750e-01],\n",
       "       [1.19350e+00, 4.86013e-01],\n",
       "       [1.19850e+00, 4.84988e-01],\n",
       "       [1.20350e+00, 4.85352e-01],\n",
       "       [1.20850e+00, 4.84839e-01],\n",
       "       [1.21350e+00, 4.85911e-01],\n",
       "       [1.21850e+00, 4.88806e-01],\n",
       "       [1.22350e+00, 4.89173e-01],\n",
       "       [1.22850e+00, 4.90711e-01],\n",
       "       [1.23350e+00, 4.92131e-01],\n",
       "       [1.23850e+00, 4.93966e-01],\n",
       "       [1.24350e+00, 4.95652e-01],\n",
       "       [1.24850e+00, 4.97265e-01],\n",
       "       [1.25350e+00, 4.99167e-01],\n",
       "       [1.25850e+00, 5.00101e-01],\n",
       "       [1.26350e+00, 5.00591e-01],\n",
       "       [1.26850e+00, 5.00412e-01],\n",
       "       [1.27350e+00, 5.00111e-01],\n",
       "       [1.27850e+00, 4.99214e-01],\n",
       "       [1.28350e+00, 4.98856e-01],\n",
       "       [1.28850e+00, 4.96742e-01],\n",
       "       [1.29350e+00, 4.94853e-01],\n",
       "       [1.29850e+00, 4.91680e-01],\n",
       "       [1.30350e+00, 4.88241e-01],\n",
       "       [1.30850e+00, 4.83282e-01],\n",
       "       [1.31350e+00, 4.77973e-01],\n",
       "       [1.31850e+00, 4.70816e-01],\n",
       "       [1.32350e+00, 4.63363e-01],\n",
       "       [1.32850e+00, 4.55054e-01],\n",
       "       [1.33350e+00, 4.46371e-01],\n",
       "       [1.33850e+00, 4.38166e-01],\n",
       "       [1.34350e+00, 4.28996e-01],\n",
       "       [1.34850e+00, 4.19866e-01],\n",
       "       [1.35350e+00, 4.14452e-01],\n",
       "       [1.35850e+00, 4.07700e-01],\n",
       "       [1.36350e+00, 4.00079e-01],\n",
       "       [1.36850e+00, 3.92225e-01],\n",
       "       [1.37350e+00, 3.81040e-01],\n",
       "       [1.37850e+00, 3.67178e-01],\n",
       "       [1.38350e+00, 3.47237e-01],\n",
       "       [1.38850e+00, 3.24150e-01],\n",
       "       [1.39350e+00, 2.98581e-01],\n",
       "       [1.39850e+00, 2.77540e-01],\n",
       "       [1.40350e+00, 2.56742e-01],\n",
       "       [1.40850e+00, 2.40176e-01],\n",
       "       [1.41350e+00, 2.28962e-01],\n",
       "       [1.41850e+00, 2.18124e-01],\n",
       "       [1.42350e+00, 2.11163e-01],\n",
       "       [1.42850e+00, 2.04641e-01],\n",
       "       [1.43350e+00, 2.01299e-01],\n",
       "       [1.43850e+00, 1.98085e-01],\n",
       "       [1.44350e+00, 1.94811e-01],\n",
       "       [1.44850e+00, 1.94078e-01],\n",
       "       [1.45350e+00, 1.94090e-01],\n",
       "       [1.45850e+00, 1.94089e-01],\n",
       "       [1.46350e+00, 1.96156e-01],\n",
       "       [1.46850e+00, 1.95005e-01],\n",
       "       [1.47350e+00, 1.98651e-01],\n",
       "       [1.47850e+00, 2.01295e-01],\n",
       "       [1.48350e+00, 2.05545e-01],\n",
       "       [1.48850e+00, 2.09075e-01],\n",
       "       [1.49350e+00, 2.13600e-01],\n",
       "       [1.49850e+00, 2.17839e-01],\n",
       "       [1.50350e+00, 2.21996e-01],\n",
       "       [1.50850e+00, 2.26274e-01],\n",
       "       [1.51350e+00, 2.30779e-01],\n",
       "       [1.51850e+00, 2.37337e-01],\n",
       "       [1.52350e+00, 2.41394e-01],\n",
       "       [1.52850e+00, 2.47745e-01],\n",
       "       [1.53400e+00, 2.52032e-01],\n",
       "       [1.54000e+00, 2.57698e-01],\n",
       "       [1.54600e+00, 2.63071e-01],\n",
       "       [1.55200e+00, 2.68977e-01],\n",
       "       [1.55800e+00, 2.73924e-01],\n",
       "       [1.56400e+00, 2.77564e-01],\n",
       "       [1.57050e+00, 2.82244e-01],\n",
       "       [1.57750e+00, 2.87004e-01],\n",
       "       [1.58450e+00, 2.92364e-01],\n",
       "       [1.59150e+00, 2.97741e-01],\n",
       "       [1.59850e+00, 3.02416e-01],\n",
       "       [1.60550e+00, 3.07519e-01],\n",
       "       [1.61250e+00, 3.11410e-01],\n",
       "       [1.61950e+00, 3.16582e-01],\n",
       "       [1.62650e+00, 3.19432e-01],\n",
       "       [1.63350e+00, 3.22942e-01],\n",
       "       [1.64050e+00, 3.24876e-01],\n",
       "       [1.64750e+00, 3.26759e-01],\n",
       "       [1.65450e+00, 3.29141e-01],\n",
       "       [1.66150e+00, 3.29452e-01],\n",
       "       [1.66850e+00, 3.30593e-01],\n",
       "       [1.67600e+00, 3.27837e-01],\n",
       "       [1.68400e+00, 3.24886e-01],\n",
       "       [1.69200e+00, 3.24052e-01],\n",
       "       [1.70000e+00, 3.22357e-01],\n",
       "       [1.70800e+00, 3.20108e-01],\n",
       "       [1.71600e+00, 3.13474e-01],\n",
       "       [1.72400e+00, 3.10735e-01],\n",
       "       [1.73200e+00, 3.04670e-01],\n",
       "       [1.74000e+00, 3.04307e-01],\n",
       "       [1.74800e+00, 3.00584e-01],\n",
       "       [1.75600e+00, 2.96799e-01],\n",
       "       [1.76400e+00, 2.91593e-01],\n",
       "       [1.77200e+00, 2.88233e-01],\n",
       "       [1.78000e+00, 2.86773e-01],\n",
       "       [1.78800e+00, 2.87953e-01],\n",
       "       [1.79600e+00, 2.85553e-01],\n",
       "       [1.80500e+00, 2.86205e-01],\n",
       "       [1.81500e+00, 2.86958e-01],\n",
       "       [1.82500e+00, 2.86432e-01],\n",
       "       [1.83500e+00, 2.85706e-01],\n",
       "       [1.84500e+00, 2.80733e-01],\n",
       "       [1.85500e+00, 2.69464e-01],\n",
       "       [1.86500e+00, 2.49970e-01],\n",
       "       [1.87500e+00, 2.16403e-01],\n",
       "       [1.88500e+00, 1.80295e-01],\n",
       "       [1.89500e+00, 1.45188e-01],\n",
       "       [1.90500e+00, 1.23222e-01],\n",
       "       [1.91500e+00, 1.09404e-01],\n",
       "       [1.92500e+00, 1.05108e-01],\n",
       "       [1.93500e+00, 1.05262e-01],\n",
       "       [1.94500e+00, 1.07846e-01],\n",
       "       [1.95500e+00, 1.10613e-01],\n",
       "       [1.96500e+00, 1.19922e-01],\n",
       "       [1.97500e+00, 1.24022e-01],\n",
       "       [1.98500e+00, 1.29524e-01],\n",
       "       [1.99500e+00, 1.34614e-01],\n",
       "       [2.00500e+00, 1.38866e-01],\n",
       "       [2.01500e+00, 1.44619e-01],\n",
       "       [2.02500e+00, 1.44973e-01],\n",
       "       [2.03500e+00, 1.46224e-01],\n",
       "       [2.04500e+00, 1.45119e-01],\n",
       "       [2.05500e+00, 1.47341e-01],\n",
       "       [2.06500e+00, 1.47598e-01],\n",
       "       [2.07500e+00, 1.49980e-01],\n",
       "       [2.08500e+00, 1.53661e-01],\n",
       "       [2.09500e+00, 1.53633e-01],\n",
       "       [2.10500e+00, 1.60184e-01],\n",
       "       [2.11500e+00, 1.63990e-01],\n",
       "       [2.12500e+00, 1.68042e-01],\n",
       "       [2.13500e+00, 1.70222e-01],\n",
       "       [2.14500e+00, 1.76234e-01],\n",
       "       [2.15500e+00, 1.76483e-01],\n",
       "       [2.16500e+00, 1.81788e-01],\n",
       "       [2.17500e+00, 1.83347e-01],\n",
       "       [2.18500e+00, 1.84018e-01],\n",
       "       [2.19500e+00, 1.87017e-01],\n",
       "       [2.20500e+00, 1.88098e-01],\n",
       "       [2.21500e+00, 1.90140e-01],\n",
       "       [2.22500e+00, 1.89304e-01],\n",
       "       [2.23500e+00, 1.84421e-01],\n",
       "       [2.24500e+00, 1.81248e-01],\n",
       "       [2.25500e+00, 1.71833e-01],\n",
       "       [2.26500e+00, 1.71576e-01],\n",
       "       [2.27500e+00, 1.64498e-01],\n",
       "       [2.28500e+00, 1.60959e-01],\n",
       "       [2.29500e+00, 1.57137e-01],\n",
       "       [2.30500e+00, 1.50008e-01],\n",
       "       [2.31500e+00, 1.47583e-01],\n",
       "       [2.32500e+00, 1.43637e-01],\n",
       "       [2.33500e+00, 1.40495e-01],\n",
       "       [2.34500e+00, 1.36252e-01],\n",
       "       [2.35500e+00, 1.33102e-01],\n",
       "       [2.36500e+00, 1.33383e-01],\n",
       "       [2.37500e+00, 1.30926e-01],\n",
       "       [2.38600e+00, 1.26322e-01],\n",
       "       [2.40000e+00, 1.21937e-01],\n",
       "       [2.41800e+00, 1.13861e-01],\n",
       "       [2.44000e+00, 1.04010e-01],\n",
       "       [2.46600e+00, 9.09330e-02],\n",
       "       [2.49600e+00, 8.15550e-02],\n",
       "       [2.52800e+00, 8.07160e-02],\n",
       "       [2.56000e+00, 8.36680e-02],\n",
       "       [2.59200e+00, 8.43190e-02],\n",
       "       [2.62400e+00, 8.30440e-02],\n",
       "       [2.65600e+00, 7.70180e-02],\n",
       "       [2.68800e+00, 6.09030e-02],\n",
       "       [2.72000e+00, 3.66350e-02],\n",
       "       [2.75200e+00, 1.25790e-02],\n",
       "       [2.78400e+00, 1.63710e-02],\n",
       "       [2.81600e+00, 8.14100e-03],\n",
       "       [2.84800e+00, 1.55100e-03],\n",
       "       [2.88000e+00, 9.62300e-03],\n",
       "       [2.91200e+00, 1.03130e-02],\n",
       "       [2.94400e+00, 9.27400e-03],\n",
       "       [2.97600e+00, 3.11700e-03]])"
      ]
     },
     "execution_count": 12,
     "metadata": {},
     "output_type": "execute_result"
    }
   ],
   "source": [
    "grass1"
   ]
  }
 ],
 "metadata": {
  "kernelspec": {
   "display_name": "Python 3 (ipykernel)",
   "language": "python",
   "name": "python3"
  },
  "language_info": {
   "codemirror_mode": {
    "name": "ipython",
    "version": 3
   },
   "file_extension": ".py",
   "mimetype": "text/x-python",
   "name": "python",
   "nbconvert_exporter": "python",
   "pygments_lexer": "ipython3",
   "version": "3.9.15"
  }
 },
 "nbformat": 4,
 "nbformat_minor": 5
}
